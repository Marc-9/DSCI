{
 "cells": [
  {
   "cell_type": "code",
   "execution_count": 1,
   "metadata": {},
   "outputs": [],
   "source": [
    "%matplotlib inline  \n",
    "import pandas as pd\n",
    "import matplotlib.pyplot as plt\n",
    "import json"
   ]
  },
  {
   "cell_type": "markdown",
   "metadata": {},
   "source": [
    "# Where should I work?"
   ]
  },
  {
   "cell_type": "markdown",
   "metadata": {},
   "source": [
    "Every year thousands of newly graduated Computer Science students begin the long and arduous journey of attempting to find a job. However, the field of Computer Science is rather large and different concentrations emerge that focus on different sects of Computer Science.\n",
    "\n",
    "An interrogation of jobs posted on Indeed should reveal interesting information regarding the number of jobs in each city, each company and what are the most in demand languages.\n",
    "\n",
    "No updated or curated dataset of computer science jobs exists online, therfore I created the dataset myself by querying the Indeed api, the queries were based on a hand crafted list of cities and keywords."
   ]
  },
  {
   "cell_type": "code",
   "execution_count": 2,
   "metadata": {},
   "outputs": [],
   "source": [
    "df = pd.read_json('jobs.json')"
   ]
  },
  {
   "cell_type": "code",
   "execution_count": 3,
   "metadata": {},
   "outputs": [
    {
     "data": {
      "text/plain": [
       "199582"
      ]
     },
     "execution_count": 3,
     "metadata": {},
     "output_type": "execute_result"
    }
   ],
   "source": [
    "len(df)"
   ]
  },
  {
   "cell_type": "code",
   "execution_count": 4,
   "metadata": {},
   "outputs": [
    {
     "data": {
      "text/html": [
       "<div>\n",
       "<style scoped>\n",
       "    .dataframe tbody tr th:only-of-type {\n",
       "        vertical-align: middle;\n",
       "    }\n",
       "\n",
       "    .dataframe tbody tr th {\n",
       "        vertical-align: top;\n",
       "    }\n",
       "\n",
       "    .dataframe thead th {\n",
       "        text-align: right;\n",
       "    }\n",
       "</style>\n",
       "<table border=\"1\" class=\"dataframe\">\n",
       "  <thead>\n",
       "    <tr style=\"text-align: right;\">\n",
       "      <th></th>\n",
       "      <th>jobtitle</th>\n",
       "      <th>company</th>\n",
       "      <th>city</th>\n",
       "      <th>state</th>\n",
       "      <th>country</th>\n",
       "      <th>language</th>\n",
       "      <th>formattedLocation</th>\n",
       "      <th>source</th>\n",
       "      <th>date</th>\n",
       "      <th>snippet</th>\n",
       "      <th>...</th>\n",
       "      <th>jobkey</th>\n",
       "      <th>sponsored</th>\n",
       "      <th>expired</th>\n",
       "      <th>indeedApply</th>\n",
       "      <th>formattedLocationFull</th>\n",
       "      <th>formattedRelativeTime</th>\n",
       "      <th>stations</th>\n",
       "      <th>refNum</th>\n",
       "      <th>keywords</th>\n",
       "      <th>advertiserId</th>\n",
       "    </tr>\n",
       "  </thead>\n",
       "  <tbody>\n",
       "    <tr>\n",
       "      <td>0</td>\n",
       "      <td>Bioinformatics Software Engineer, Production</td>\n",
       "      <td>Invitae</td>\n",
       "      <td>San Francisco</td>\n",
       "      <td>CA</td>\n",
       "      <td>US</td>\n",
       "      <td>en</td>\n",
       "      <td>San Francisco, CA</td>\n",
       "      <td>InVitae</td>\n",
       "      <td>2021-03-31 00:41:21+00:00</td>\n",
       "      <td>Experience with Javascript frameworks such as ...</td>\n",
       "      <td>...</td>\n",
       "      <td>6fe3246003f0a2be</td>\n",
       "      <td>False</td>\n",
       "      <td>False</td>\n",
       "      <td>True</td>\n",
       "      <td>San Francisco, CA 94107</td>\n",
       "      <td>8 days ago</td>\n",
       "      <td></td>\n",
       "      <td>3029156</td>\n",
       "      <td>[docker, javascript, bash]</td>\n",
       "      <td>NaN</td>\n",
       "    </tr>\n",
       "    <tr>\n",
       "      <td>1</td>\n",
       "      <td>iOS Lead</td>\n",
       "      <td>Rdio</td>\n",
       "      <td>San Francisco</td>\n",
       "      <td>CA</td>\n",
       "      <td>US</td>\n",
       "      <td>en</td>\n",
       "      <td>San Francisco, CA</td>\n",
       "      <td>Rdio</td>\n",
       "      <td>2018-11-05 07:32:51+00:00</td>\n",
       "      <td>Python, Java, Objective-C, JavaScript and Erla...</td>\n",
       "      <td>...</td>\n",
       "      <td>96407f75975a6cb0</td>\n",
       "      <td>False</td>\n",
       "      <td>False</td>\n",
       "      <td>True</td>\n",
       "      <td>San Francisco, CA</td>\n",
       "      <td>2 years ago</td>\n",
       "      <td></td>\n",
       "      <td>JL8193381111</td>\n",
       "      <td>[swift, ios, android, java, javascript]</td>\n",
       "      <td>NaN</td>\n",
       "    </tr>\n",
       "    <tr>\n",
       "      <td>2</td>\n",
       "      <td>Senior Software Engineer II (Fullstack) - Vouc...</td>\n",
       "      <td>Uber</td>\n",
       "      <td>San Francisco</td>\n",
       "      <td>CA</td>\n",
       "      <td>US</td>\n",
       "      <td>en</td>\n",
       "      <td>San Francisco, CA</td>\n",
       "      <td>Uber</td>\n",
       "      <td>2021-03-16 08:18:59+00:00</td>\n",
       "      <td>Javascript, C++, Java, Python, or Go. Uber Vou...</td>\n",
       "      <td>...</td>\n",
       "      <td>23f9b7a73d200fbc</td>\n",
       "      <td>False</td>\n",
       "      <td>False</td>\n",
       "      <td>False</td>\n",
       "      <td>San Francisco, CA 94103</td>\n",
       "      <td>22 days ago</td>\n",
       "      <td></td>\n",
       "      <td>101262</td>\n",
       "      <td>[node.js, c++, css, golang, angular, java, jav...</td>\n",
       "      <td>NaN</td>\n",
       "    </tr>\n",
       "    <tr>\n",
       "      <td>3</td>\n",
       "      <td>Senior Full Stack Developer</td>\n",
       "      <td>IBM</td>\n",
       "      <td>San Francisco</td>\n",
       "      <td>CA</td>\n",
       "      <td>US</td>\n",
       "      <td>en</td>\n",
       "      <td>San Francisco, CA</td>\n",
       "      <td>IBM</td>\n",
       "      <td>2021-03-25 17:42:25+00:00</td>\n",
       "      <td>Software Developers at IBM are the backbone of...</td>\n",
       "      <td>...</td>\n",
       "      <td>a971331608ecbb66</td>\n",
       "      <td>False</td>\n",
       "      <td>False</td>\n",
       "      <td>False</td>\n",
       "      <td>San Francisco, CA</td>\n",
       "      <td>13 days ago</td>\n",
       "      <td></td>\n",
       "      <td>81488419</td>\n",
       "      <td>[node.js, c++, angular, java, nosql, javascript]</td>\n",
       "      <td>NaN</td>\n",
       "    </tr>\n",
       "    <tr>\n",
       "      <td>4</td>\n",
       "      <td>Machine Learning Developer</td>\n",
       "      <td>The Blue Store</td>\n",
       "      <td>San Francisco</td>\n",
       "      <td>CA</td>\n",
       "      <td>US</td>\n",
       "      <td>en</td>\n",
       "      <td>San Francisco, CA</td>\n",
       "      <td>Indeed</td>\n",
       "      <td>2021-02-12 00:00:01+00:00</td>\n",
       "      <td>Use Python to design, implement and test autom...</td>\n",
       "      <td>...</td>\n",
       "      <td>61e0fa40e15cda82</td>\n",
       "      <td>False</td>\n",
       "      <td>False</td>\n",
       "      <td>True</td>\n",
       "      <td>San Francisco, CA 94103</td>\n",
       "      <td>30+ days ago</td>\n",
       "      <td></td>\n",
       "      <td>42583631-41-41</td>\n",
       "      <td>[node.js, c++, c#, spark, tensorflow, java, ja...</td>\n",
       "      <td>42583631.0</td>\n",
       "    </tr>\n",
       "  </tbody>\n",
       "</table>\n",
       "<p>5 rows × 24 columns</p>\n",
       "</div>"
      ],
      "text/plain": [
       "                                            jobtitle         company  \\\n",
       "0       Bioinformatics Software Engineer, Production         Invitae   \n",
       "1                                           iOS Lead            Rdio   \n",
       "2  Senior Software Engineer II (Fullstack) - Vouc...            Uber   \n",
       "3                        Senior Full Stack Developer             IBM   \n",
       "4                         Machine Learning Developer  The Blue Store   \n",
       "\n",
       "            city state country language  formattedLocation   source  \\\n",
       "0  San Francisco    CA      US       en  San Francisco, CA  InVitae   \n",
       "1  San Francisco    CA      US       en  San Francisco, CA     Rdio   \n",
       "2  San Francisco    CA      US       en  San Francisco, CA     Uber   \n",
       "3  San Francisco    CA      US       en  San Francisco, CA      IBM   \n",
       "4  San Francisco    CA      US       en  San Francisco, CA   Indeed   \n",
       "\n",
       "                       date  \\\n",
       "0 2021-03-31 00:41:21+00:00   \n",
       "1 2018-11-05 07:32:51+00:00   \n",
       "2 2021-03-16 08:18:59+00:00   \n",
       "3 2021-03-25 17:42:25+00:00   \n",
       "4 2021-02-12 00:00:01+00:00   \n",
       "\n",
       "                                             snippet  ...            jobkey  \\\n",
       "0  Experience with Javascript frameworks such as ...  ...  6fe3246003f0a2be   \n",
       "1  Python, Java, Objective-C, JavaScript and Erla...  ...  96407f75975a6cb0   \n",
       "2  Javascript, C++, Java, Python, or Go. Uber Vou...  ...  23f9b7a73d200fbc   \n",
       "3  Software Developers at IBM are the backbone of...  ...  a971331608ecbb66   \n",
       "4  Use Python to design, implement and test autom...  ...  61e0fa40e15cda82   \n",
       "\n",
       "  sponsored  expired  indeedApply    formattedLocationFull  \\\n",
       "0     False    False         True  San Francisco, CA 94107   \n",
       "1     False    False         True        San Francisco, CA   \n",
       "2     False    False        False  San Francisco, CA 94103   \n",
       "3     False    False        False        San Francisco, CA   \n",
       "4     False    False         True  San Francisco, CA 94103   \n",
       "\n",
       "   formattedRelativeTime  stations          refNum  \\\n",
       "0             8 days ago                   3029156   \n",
       "1            2 years ago              JL8193381111   \n",
       "2            22 days ago                    101262   \n",
       "3            13 days ago                  81488419   \n",
       "4           30+ days ago            42583631-41-41   \n",
       "\n",
       "                                            keywords advertiserId  \n",
       "0                         [docker, javascript, bash]          NaN  \n",
       "1            [swift, ios, android, java, javascript]          NaN  \n",
       "2  [node.js, c++, css, golang, angular, java, jav...          NaN  \n",
       "3   [node.js, c++, angular, java, nosql, javascript]          NaN  \n",
       "4  [node.js, c++, c#, spark, tensorflow, java, ja...   42583631.0  \n",
       "\n",
       "[5 rows x 24 columns]"
      ]
     },
     "execution_count": 4,
     "metadata": {},
     "output_type": "execute_result"
    }
   ],
   "source": [
    "df.head()"
   ]
  },
  {
   "cell_type": "markdown",
   "metadata": {},
   "source": [
    "The dataset includes ~200 thousand unique computer science job postings from around the US, it includes useful information including, job title, company, location, job description, and job url.\n",
    "\n",
    "To optimize performace the descriptions have been shortened to snippets and the language keywords have been pulled out, this will make data analysis in pandas easier, however a seperate analysis was completed on the full descriptions using spark but that will shown at the end."
   ]
  },
  {
   "cell_type": "markdown",
   "metadata": {},
   "source": [
    "# Top Cities/Companies/Titles"
   ]
  },
  {
   "cell_type": "code",
   "execution_count": 5,
   "metadata": {},
   "outputs": [
    {
     "data": {
      "text/html": [
       "<div>\n",
       "<style scoped>\n",
       "    .dataframe tbody tr th:only-of-type {\n",
       "        vertical-align: middle;\n",
       "    }\n",
       "\n",
       "    .dataframe tbody tr th {\n",
       "        vertical-align: top;\n",
       "    }\n",
       "\n",
       "    .dataframe thead th {\n",
       "        text-align: right;\n",
       "    }\n",
       "</style>\n",
       "<table border=\"1\" class=\"dataframe\">\n",
       "  <thead>\n",
       "    <tr style=\"text-align: right;\">\n",
       "      <th></th>\n",
       "      <th>city</th>\n",
       "      <th>count</th>\n",
       "    </tr>\n",
       "  </thead>\n",
       "  <tbody>\n",
       "    <tr>\n",
       "      <td>2148</td>\n",
       "      <td>New York</td>\n",
       "      <td>9279</td>\n",
       "    </tr>\n",
       "    <tr>\n",
       "      <td>2828</td>\n",
       "      <td>Seattle</td>\n",
       "      <td>6157</td>\n",
       "    </tr>\n",
       "    <tr>\n",
       "      <td>2748</td>\n",
       "      <td>San Francisco</td>\n",
       "      <td>6023</td>\n",
       "    </tr>\n",
       "    <tr>\n",
       "      <td>136</td>\n",
       "      <td>Austin</td>\n",
       "      <td>5469</td>\n",
       "    </tr>\n",
       "    <tr>\n",
       "      <td>529</td>\n",
       "      <td>Chicago</td>\n",
       "      <td>5294</td>\n",
       "    </tr>\n",
       "    <tr>\n",
       "      <td>122</td>\n",
       "      <td>Atlanta</td>\n",
       "      <td>4246</td>\n",
       "    </tr>\n",
       "    <tr>\n",
       "      <td>292</td>\n",
       "      <td>Boston</td>\n",
       "      <td>3964</td>\n",
       "    </tr>\n",
       "    <tr>\n",
       "      <td>694</td>\n",
       "      <td>Dallas</td>\n",
       "      <td>3313</td>\n",
       "    </tr>\n",
       "    <tr>\n",
       "      <td>3306</td>\n",
       "      <td>Washington</td>\n",
       "      <td>3147</td>\n",
       "    </tr>\n",
       "    <tr>\n",
       "      <td>1755</td>\n",
       "      <td>Los Angeles</td>\n",
       "      <td>2965</td>\n",
       "    </tr>\n",
       "  </tbody>\n",
       "</table>\n",
       "</div>"
      ],
      "text/plain": [
       "               city  count\n",
       "2148       New York   9279\n",
       "2828        Seattle   6157\n",
       "2748  San Francisco   6023\n",
       "136          Austin   5469\n",
       "529         Chicago   5294\n",
       "122         Atlanta   4246\n",
       "292          Boston   3964\n",
       "694          Dallas   3313\n",
       "3306     Washington   3147\n",
       "1755    Los Angeles   2965"
      ]
     },
     "execution_count": 5,
     "metadata": {},
     "output_type": "execute_result"
    }
   ],
   "source": [
    "df.groupby('city').jobtitle.count().reset_index(name='count').sort_values(['count'], ascending=False).head(10)"
   ]
  },
  {
   "cell_type": "code",
   "execution_count": 6,
   "metadata": {},
   "outputs": [
    {
     "data": {
      "text/html": [
       "<div>\n",
       "<style scoped>\n",
       "    .dataframe tbody tr th:only-of-type {\n",
       "        vertical-align: middle;\n",
       "    }\n",
       "\n",
       "    .dataframe tbody tr th {\n",
       "        vertical-align: top;\n",
       "    }\n",
       "\n",
       "    .dataframe thead th {\n",
       "        text-align: right;\n",
       "    }\n",
       "</style>\n",
       "<table border=\"1\" class=\"dataframe\">\n",
       "  <thead>\n",
       "    <tr style=\"text-align: right;\">\n",
       "      <th></th>\n",
       "      <th>state</th>\n",
       "      <th>count</th>\n",
       "    </tr>\n",
       "  </thead>\n",
       "  <tbody>\n",
       "    <tr>\n",
       "      <td>5</td>\n",
       "      <td>CA</td>\n",
       "      <td>36097</td>\n",
       "    </tr>\n",
       "    <tr>\n",
       "      <td>44</td>\n",
       "      <td>TX</td>\n",
       "      <td>17858</td>\n",
       "    </tr>\n",
       "    <tr>\n",
       "      <td>35</td>\n",
       "      <td>NY</td>\n",
       "      <td>13685</td>\n",
       "    </tr>\n",
       "    <tr>\n",
       "      <td>47</td>\n",
       "      <td>WA</td>\n",
       "      <td>10489</td>\n",
       "    </tr>\n",
       "    <tr>\n",
       "      <td>46</td>\n",
       "      <td>VA</td>\n",
       "      <td>10114</td>\n",
       "    </tr>\n",
       "    <tr>\n",
       "      <td>21</td>\n",
       "      <td>MA</td>\n",
       "      <td>9034</td>\n",
       "    </tr>\n",
       "    <tr>\n",
       "      <td>16</td>\n",
       "      <td>IL</td>\n",
       "      <td>8289</td>\n",
       "    </tr>\n",
       "    <tr>\n",
       "      <td>11</td>\n",
       "      <td>FL</td>\n",
       "      <td>8002</td>\n",
       "    </tr>\n",
       "    <tr>\n",
       "      <td>22</td>\n",
       "      <td>MD</td>\n",
       "      <td>7439</td>\n",
       "    </tr>\n",
       "    <tr>\n",
       "      <td>28</td>\n",
       "      <td>NC</td>\n",
       "      <td>6535</td>\n",
       "    </tr>\n",
       "  </tbody>\n",
       "</table>\n",
       "</div>"
      ],
      "text/plain": [
       "   state  count\n",
       "5     CA  36097\n",
       "44    TX  17858\n",
       "35    NY  13685\n",
       "47    WA  10489\n",
       "46    VA  10114\n",
       "21    MA   9034\n",
       "16    IL   8289\n",
       "11    FL   8002\n",
       "22    MD   7439\n",
       "28    NC   6535"
      ]
     },
     "execution_count": 6,
     "metadata": {},
     "output_type": "execute_result"
    }
   ],
   "source": [
    "df.groupby('state').jobtitle.count().reset_index(name='count').sort_values(['count'], ascending=False).head(10)"
   ]
  },
  {
   "cell_type": "markdown",
   "metadata": {},
   "source": [
    "Using pandas groupby feature we are able to extract interesting information regarding the state of the computer science field in the United States.\n",
    "\n",
    "The top ten cities may come as no suprise, with New York in a commanding 1st with 50% more jobs than 2nd place Seattle. Los Angeles comes in much lower at 10th than anticipated with only 2965 jobs, this potentially could be skewed as many jobs near Los Angeles in its surrounding cities that many would still regard as an LA job is not included in this count.\n",
    "\n",
    "Despite New York City being the city with the most jobs the state of NY is only 3rd with 13k jobs. California has more jobs than 2nd and 3rd combined at 36k. While only 2 Californian cities made it in the top 10 cities by jobs it dominates at the state level, this means the jobs in California are more spread out amonst the cities. This makes sense, while most states like Texas or New York might have 1 tech hub in the state California has multiple, to name a few: San Francisco, Los Angeles, San Diego, San Jose etc.\n",
    "\n"
   ]
  },
  {
   "cell_type": "code",
   "execution_count": 7,
   "metadata": {},
   "outputs": [
    {
     "data": {
      "text/html": [
       "<div>\n",
       "<style scoped>\n",
       "    .dataframe tbody tr th:only-of-type {\n",
       "        vertical-align: middle;\n",
       "    }\n",
       "\n",
       "    .dataframe tbody tr th {\n",
       "        vertical-align: top;\n",
       "    }\n",
       "\n",
       "    .dataframe thead th {\n",
       "        text-align: right;\n",
       "    }\n",
       "</style>\n",
       "<table border=\"1\" class=\"dataframe\">\n",
       "  <thead>\n",
       "    <tr style=\"text-align: right;\">\n",
       "      <th></th>\n",
       "      <th>city</th>\n",
       "      <th>count</th>\n",
       "    </tr>\n",
       "  </thead>\n",
       "  <tbody>\n",
       "    <tr>\n",
       "      <td>357</td>\n",
       "      <td>San Francisco</td>\n",
       "      <td>6023</td>\n",
       "    </tr>\n",
       "    <tr>\n",
       "      <td>219</td>\n",
       "      <td>Los Angeles</td>\n",
       "      <td>2965</td>\n",
       "    </tr>\n",
       "    <tr>\n",
       "      <td>353</td>\n",
       "      <td>San Diego</td>\n",
       "      <td>2767</td>\n",
       "    </tr>\n",
       "    <tr>\n",
       "      <td>361</td>\n",
       "      <td>San Jose</td>\n",
       "      <td>2390</td>\n",
       "    </tr>\n",
       "    <tr>\n",
       "      <td>376</td>\n",
       "      <td>Santa Clara</td>\n",
       "      <td>1522</td>\n",
       "    </tr>\n",
       "    <tr>\n",
       "      <td>176</td>\n",
       "      <td>Irvine</td>\n",
       "      <td>1446</td>\n",
       "    </tr>\n",
       "    <tr>\n",
       "      <td>413</td>\n",
       "      <td>Sunnyvale</td>\n",
       "      <td>1356</td>\n",
       "    </tr>\n",
       "    <tr>\n",
       "      <td>292</td>\n",
       "      <td>Palo Alto</td>\n",
       "      <td>1331</td>\n",
       "    </tr>\n",
       "    <tr>\n",
       "      <td>258</td>\n",
       "      <td>Mountain View</td>\n",
       "      <td>951</td>\n",
       "    </tr>\n",
       "    <tr>\n",
       "      <td>135</td>\n",
       "      <td>Fremont</td>\n",
       "      <td>616</td>\n",
       "    </tr>\n",
       "  </tbody>\n",
       "</table>\n",
       "</div>"
      ],
      "text/plain": [
       "              city  count\n",
       "357  San Francisco   6023\n",
       "219    Los Angeles   2965\n",
       "353      San Diego   2767\n",
       "361       San Jose   2390\n",
       "376    Santa Clara   1522\n",
       "176         Irvine   1446\n",
       "413      Sunnyvale   1356\n",
       "292      Palo Alto   1331\n",
       "258  Mountain View    951\n",
       "135        Fremont    616"
      ]
     },
     "execution_count": 7,
     "metadata": {},
     "output_type": "execute_result"
    }
   ],
   "source": [
    "df[df['state']== 'CA'].groupby('city').jobtitle.count().reset_index(name='count').sort_values(['count'], ascending=False).head(10)"
   ]
  },
  {
   "cell_type": "code",
   "execution_count": 8,
   "metadata": {},
   "outputs": [
    {
     "data": {
      "text/html": [
       "<div>\n",
       "<style scoped>\n",
       "    .dataframe tbody tr th:only-of-type {\n",
       "        vertical-align: middle;\n",
       "    }\n",
       "\n",
       "    .dataframe tbody tr th {\n",
       "        vertical-align: top;\n",
       "    }\n",
       "\n",
       "    .dataframe thead th {\n",
       "        text-align: right;\n",
       "    }\n",
       "</style>\n",
       "<table border=\"1\" class=\"dataframe\">\n",
       "  <thead>\n",
       "    <tr style=\"text-align: right;\">\n",
       "      <th></th>\n",
       "      <th>company</th>\n",
       "      <th>count</th>\n",
       "    </tr>\n",
       "  </thead>\n",
       "  <tbody>\n",
       "    <tr>\n",
       "      <td>8987</td>\n",
       "      <td>Deloitte</td>\n",
       "      <td>4380</td>\n",
       "    </tr>\n",
       "    <tr>\n",
       "      <td>1886</td>\n",
       "      <td>Amazon.com Services LLC</td>\n",
       "      <td>4246</td>\n",
       "    </tr>\n",
       "    <tr>\n",
       "      <td>1885</td>\n",
       "      <td>Amazon Web Services, Inc.</td>\n",
       "      <td>2953</td>\n",
       "    </tr>\n",
       "    <tr>\n",
       "      <td>16175</td>\n",
       "      <td>KPMG</td>\n",
       "      <td>1852</td>\n",
       "    </tr>\n",
       "    <tr>\n",
       "      <td>1876</td>\n",
       "      <td>Amazon Dev Center U.S., Inc.</td>\n",
       "      <td>1381</td>\n",
       "    </tr>\n",
       "    <tr>\n",
       "      <td>31593</td>\n",
       "      <td>VMware</td>\n",
       "      <td>1236</td>\n",
       "    </tr>\n",
       "    <tr>\n",
       "      <td>19047</td>\n",
       "      <td>Microsoft</td>\n",
       "      <td>1235</td>\n",
       "    </tr>\n",
       "    <tr>\n",
       "      <td>8586</td>\n",
       "      <td>DaVita</td>\n",
       "      <td>1180</td>\n",
       "    </tr>\n",
       "    <tr>\n",
       "      <td>11081</td>\n",
       "      <td>Facebook</td>\n",
       "      <td>1131</td>\n",
       "    </tr>\n",
       "    <tr>\n",
       "      <td>27409</td>\n",
       "      <td>Splunk</td>\n",
       "      <td>943</td>\n",
       "    </tr>\n",
       "  </tbody>\n",
       "</table>\n",
       "</div>"
      ],
      "text/plain": [
       "                            company  count\n",
       "8987                       Deloitte   4380\n",
       "1886        Amazon.com Services LLC   4246\n",
       "1885      Amazon Web Services, Inc.   2953\n",
       "16175                          KPMG   1852\n",
       "1876   Amazon Dev Center U.S., Inc.   1381\n",
       "31593                        VMware   1236\n",
       "19047                     Microsoft   1235\n",
       "8586                         DaVita   1180\n",
       "11081                      Facebook   1131\n",
       "27409                        Splunk    943"
      ]
     },
     "execution_count": 8,
     "metadata": {},
     "output_type": "execute_result"
    }
   ],
   "source": [
    "df.groupby('company').jobtitle.count().reset_index(name='count').sort_values(['count'], ascending=False).head(10)"
   ]
  },
  {
   "cell_type": "code",
   "execution_count": 9,
   "metadata": {},
   "outputs": [
    {
     "data": {
      "text/html": [
       "<div>\n",
       "<style scoped>\n",
       "    .dataframe tbody tr th:only-of-type {\n",
       "        vertical-align: middle;\n",
       "    }\n",
       "\n",
       "    .dataframe tbody tr th {\n",
       "        vertical-align: top;\n",
       "    }\n",
       "\n",
       "    .dataframe thead th {\n",
       "        text-align: right;\n",
       "    }\n",
       "</style>\n",
       "<table border=\"1\" class=\"dataframe\">\n",
       "  <thead>\n",
       "    <tr style=\"text-align: right;\">\n",
       "      <th></th>\n",
       "      <th>jobtitle</th>\n",
       "      <th>count</th>\n",
       "    </tr>\n",
       "  </thead>\n",
       "  <tbody>\n",
       "    <tr>\n",
       "      <td>80332</td>\n",
       "      <td>Software Engineer</td>\n",
       "      <td>2818</td>\n",
       "    </tr>\n",
       "    <tr>\n",
       "      <td>72235</td>\n",
       "      <td>Senior Software Engineer</td>\n",
       "      <td>2052</td>\n",
       "    </tr>\n",
       "    <tr>\n",
       "      <td>78373</td>\n",
       "      <td>Software Developer</td>\n",
       "      <td>1027</td>\n",
       "    </tr>\n",
       "    <tr>\n",
       "      <td>17755</td>\n",
       "      <td>Data Engineer</td>\n",
       "      <td>834</td>\n",
       "    </tr>\n",
       "    <tr>\n",
       "      <td>20517</td>\n",
       "      <td>DevOps Engineer</td>\n",
       "      <td>826</td>\n",
       "    </tr>\n",
       "    <tr>\n",
       "      <td>51103</td>\n",
       "      <td>Pharmacy Technician</td>\n",
       "      <td>739</td>\n",
       "    </tr>\n",
       "    <tr>\n",
       "      <td>18727</td>\n",
       "      <td>Data Scientist</td>\n",
       "      <td>679</td>\n",
       "    </tr>\n",
       "    <tr>\n",
       "      <td>95379</td>\n",
       "      <td>Systems Administrator</td>\n",
       "      <td>644</td>\n",
       "    </tr>\n",
       "    <tr>\n",
       "      <td>37947</td>\n",
       "      <td>Java Developer</td>\n",
       "      <td>585</td>\n",
       "    </tr>\n",
       "    <tr>\n",
       "      <td>29759</td>\n",
       "      <td>Full Stack Developer</td>\n",
       "      <td>531</td>\n",
       "    </tr>\n",
       "  </tbody>\n",
       "</table>\n",
       "</div>"
      ],
      "text/plain": [
       "                       jobtitle  count\n",
       "80332         Software Engineer   2818\n",
       "72235  Senior Software Engineer   2052\n",
       "78373        Software Developer   1027\n",
       "17755             Data Engineer    834\n",
       "20517           DevOps Engineer    826\n",
       "51103       Pharmacy Technician    739\n",
       "18727            Data Scientist    679\n",
       "95379     Systems Administrator    644\n",
       "37947            Java Developer    585\n",
       "29759      Full Stack Developer    531"
      ]
     },
     "execution_count": 9,
     "metadata": {},
     "output_type": "execute_result"
    }
   ],
   "source": [
    "df.groupby('jobtitle').jobtitle.count().reset_index(name='count').sort_values(['count'], ascending=False).head(10)"
   ]
  },
  {
   "cell_type": "markdown",
   "metadata": {},
   "source": [
    "The companies that had posted the most computer science jobs did suprise me, while the top spot is occupied by a company called Deloitte in actuality the company with the most jobs is Amazon, but its jobs got split between company names such as Amazon.com Services LLC, Amazon Web Services, Inc., and Amazon Dev Center U.S., Inc. The two companies I did not recognize Deloitte and DaVita appear to be contracting companies which would explain their large number of job postings.\n",
    "\n",
    "The job titles with the most openings were Software Engineer, Senior Software Engineer, and Software Developer as they are the most broad. However a factor that impacted this analysis was the large number of job titles that contained additinal info like Software Engineer - Remote | Java. Which would effect its ability to be grouped."
   ]
  },
  {
   "cell_type": "markdown",
   "metadata": {},
   "source": [
    "# Most Popular skill by City"
   ]
  },
  {
   "cell_type": "code",
   "execution_count": 10,
   "metadata": {},
   "outputs": [
    {
     "data": {
      "text/plain": [
       "0                                [docker, javascript, bash]\n",
       "1                   [swift, ios, android, java, javascript]\n",
       "2         [node.js, c++, css, golang, angular, java, jav...\n",
       "3          [node.js, c++, angular, java, nosql, javascript]\n",
       "4         [node.js, c++, c#, spark, tensorflow, java, ja...\n",
       "                                ...                        \n",
       "199577                                         [tensorflow]\n",
       "199578                                          [expressjs]\n",
       "199579                                          [expressjs]\n",
       "199580                                          [expressjs]\n",
       "199581                                          [expressjs]\n",
       "Name: keywords, Length: 199582, dtype: object"
      ]
     },
     "execution_count": 10,
     "metadata": {},
     "output_type": "execute_result"
    }
   ],
   "source": [
    "df['keywords']"
   ]
  },
  {
   "cell_type": "code",
   "execution_count": 11,
   "metadata": {},
   "outputs": [],
   "source": [
    "keyword_dict = {}\n",
    "def count_keywords(keyword):\n",
    "    for item in keyword:\n",
    "        if item in keyword_dict:\n",
    "            keyword_dict[item] += 1\n",
    "        else:\n",
    "            keyword_dict[item] = 1"
   ]
  },
  {
   "cell_type": "code",
   "execution_count": 12,
   "metadata": {},
   "outputs": [
    {
     "name": "stdout",
     "output_type": "stream",
     "text": [
      "{'python': 43745, 'java': 37204, 'linux': 37015, 'javascript': 36401, 'aws': 33404, 'azure': 29674, 'c++': 24467, 'html': 24170, 'css': 23528, 'c#': 23302, 'spark': 18877, 'docker': 18026, 'mysql': 12078, 'ruby': 11635, 'angular': 11561, 'nosql': 10925, 'perl': 9755, 'android': 9334, 'bash': 9259, 'hadoop': 9133, 'c': 9130, 'node.js': 7919, 'php': 7905, 'asp.net': 6031, 'jquery': 5742, 'scala': 5275, 'vba': 3834, 'tensorflow': 3778, 'vue': 3620, 'r': 2348, 'kotlin': 2305, 'golang': 2191, 'reactjs': 1980, 'swift': 1976, 'rust': 1934, 'django': 1657, 'mongo': 1609, 'ios': 1132, 'laravel': 696, 'clojure': 384, 'haskell': 353, 'lisp': 116, 'expressjs': 110}\n"
     ]
    }
   ],
   "source": [
    "df.keywords.map(count_keywords)\n",
    "keyword_dict = dict(sorted(keyword_dict.items(), key=lambda item: item[1], reverse=True))\n",
    "print(keyword_dict)"
   ]
  },
  {
   "cell_type": "markdown",
   "metadata": {},
   "source": [
    "The analysis of keywords was particular hard to do in pandas, as the number of keywords associated to each job could be a variable number from 1 - N (where N is the total number of keywords).\n",
    "\n",
    "Python was the runaway leader for most in demand skill being listed in 43k jobs, followed by Java (37k) and linux (37k)."
   ]
  },
  {
   "cell_type": "code",
   "execution_count": 13,
   "metadata": {},
   "outputs": [],
   "source": [
    "city_dict = {}\n",
    "def count_keywords_per_city(row):\n",
    "    if row['city'] not in city_dict:\n",
    "        city_dict[row['city']] = {}\n",
    "    for item in row['keywords']:        \n",
    "        if item in city_dict[row['city']]:\n",
    "            city_dict[row['city']][item] += 1\n",
    "        else:\n",
    "            city_dict[row['city']][item] = 1"
   ]
  },
  {
   "cell_type": "code",
   "execution_count": 18,
   "metadata": {},
   "outputs": [
    {
     "name": "stdout",
     "output_type": "stream",
     "text": [
      "{'San Francisco': {'docker': 1518, 'javascript': 1756, 'bash': 434, 'swift': 300, 'ios': 230, 'android': 976, 'java': 1904, 'node.js': 714, 'c++': 1368, 'css': 1362, 'golang': 356, 'angular': 476, 'html': 1268, 'nosql': 858, 'c#': 682, 'spark': 1834, 'tensorflow': 450, 'mysql': 752, 'ruby': 1058, 'aws': 1984, 'php': 380, 'hadoop': 764, 'python': 2036, 'vue': 234, 'linux': 1614, 'reactjs': 134, 'jquery': 100, 'scala': 714, 'azure': 1424, 'kotlin': 412, 'c': 506, 'perl': 336, 'django': 232, 'lisp': 12, 'haskell': 40, 'clojure': 60, 'asp.net': 70, 'rust': 142, 'mongo': 54, 'r': 96, 'laravel': 20, 'vba': 142, 'expressjs': 8}, 'Dallas': {'node.js': 262, 'android': 264, 'java': 1236, 'javascript': 1344, 'css': 772, 'python': 1468, 'linux': 1256, 'azure': 1404, 'docker': 726, 'html': 980, 'aws': 1520, 'reactjs': 100, 'c#': 752, 'c': 272, 'ruby': 374, 'nosql': 484, 'angular': 492, 'vue': 102, 'perl': 336, 'jquery': 200, 'hadoop': 386, 'c++': 580, 'spark': 622, 'mysql': 400, 'scala': 200, 'bash': 368, 'asp.net': 210, 'django': 52, 'swift': 60, 'kotlin': 56, 'ios': 46, 'php': 202, 'golang': 68, 'mongo': 78, 'r': 88, 'laravel': 8, 'rust': 38, 'vba': 140, 'tensorflow': 114, 'clojure': 6, 'expressjs': 2, 'haskell': 32, 'lisp': 2}, 'Austin': {'java': 1750, 'javascript': 1600, 'node.js': 508, 'jquery': 308, 'nosql': 742, 'css': 1364, 'ruby': 762, 'python': 1740, 'android': 542, 'bash': 544, 'spark': 642, 'docker': 1270, 'aws': 1672, 'php': 422, 'mysql': 780, 'vue': 228, 'laravel': 44, 'html': 1338, 'perl': 714, 'angular': 576, 'reactjs': 170, 'c#': 1252, 'golang': 242, 'linux': 1714, 'c++': 1672, 'azure': 1646, 'c': 590, 'django': 188, 'scala': 322, 'mongo': 120, 'tensorflow': 208, 'hadoop': 450, 'asp.net': 232, 'kotlin': 202, 'r': 84, 'lisp': 14, 'vba': 98, 'rust': 78, 'swift': 150, 'ios': 106, 'clojure': 44, 'haskell': 26, 'expressjs': 2}, 'New York': {'css': 1932, 'c#': 1602, 'python': 2586, 'angular': 1010, 'java': 2184, 'javascript': 2284, 'html': 2008, 'aws': 2274, 'ruby': 1180, 'node.js': 950, 'golang': 272, 'scala': 826, 'spark': 1856, 'docker': 1760, 'azure': 1838, 'reactjs': 240, 'c++': 1946, 'vue': 326, 'php': 836, 'mysql': 1248, 'linux': 1972, 'jquery': 378, 'django': 256, 'nosql': 1234, 'perl': 726, 'hadoop': 1268, 'bash': 806, 'c': 854, 'android': 1060, 'clojure': 42, 'asp.net': 282, 'swift': 332, 'ios': 260, 'r': 314, 'tensorflow': 496, 'mongo': 180, 'vba': 774, 'laravel': 60, 'kotlin': 354, 'rust': 106, 'expressjs': 8, 'haskell': 26, 'lisp': 10}, 'Los Angeles': {'html': 826, 'css': 758, 'javascript': 1272, 'c': 238, 'django': 72, 'vue': 96, 'python': 1694, 'angular': 224, 'docker': 582, 'aws': 1360, 'azure': 856, 'jquery': 100, 'ruby': 326, 'android': 424, 'php': 324, 'c++': 840, 'asp.net': 110, 'c#': 586, 'java': 1296, 'node.js': 216, 'mysql': 438, 'laravel': 36, 'linux': 1082, 'scala': 184, 'reactjs': 72, 'spark': 584, 'nosql': 324, 'kotlin': 158, 'hadoop': 254, 'perl': 188, 'golang': 112, 'rust': 22, 'tensorflow': 114, 'bash': 236, 'r': 50, 'mongo': 42, 'swift': 120, 'vba': 116, 'clojure': 10, 'expressjs': 6, 'ios': 70, 'haskell': 24, 'lisp': 2}, 'Washington': {'django': 80, 'mysql': 534, 'swift': 42, 'android': 252, 'kotlin': 42, 'laravel': 20, 'c': 392, 'java': 442, 'ruby': 444, 'javascript': 560, 'node.js': 304, 'css': 700, 'azure': 658, 'angular': 472, 'c++': 300, 'c#': 560, 'html': 628, 'nosql': 398, 'hadoop': 436, 'spark': 630, 'docker': 500, 'asp.net': 278, 'jquery': 318, 'php': 422, 'vba': 224, 'vue': 148, 'python': 548, 'aws': 432, 'r': 146, 'perl': 360, 'linux': 476, 'bash': 448, 'lisp': 2, 'golang': 64, 'ios': 24, 'reactjs': 80, 'mongo': 68, 'clojure': 14, 'scala': 164, 'expressjs': 4, 'tensorflow': 114, 'rust': 30}, 'Seattle': {'node.js': 516, 'c++': 1850, 'scala': 584, 'c#': 1956, 'python': 2330, 'angular': 466, 'java': 1978, 'javascript': 1684, 'css': 1136, 'aws': 2286, 'mysql': 586, 'jquery': 210, 'php': 384, 'reactjs': 134, 'html': 1230, 'nosql': 808, 'rust': 158, 'perl': 828, 'azure': 1218, 'kotlin': 268, 'ruby': 1138, 'c': 786, 'bash': 478, 'vue': 176, 'android': 800, 'linux': 1610, 'golang': 240, 'docker': 1004, 'spark': 1112, 'asp.net': 120, 'django': 84, 'swift': 164, 'clojure': 48, 'hadoop': 706, 'r': 198, 'ios': 78, 'tensorflow': 270, 'mongo': 50, 'laravel': 12, 'haskell': 14, 'vba': 188, 'lisp': 2}, 'Chicago': {'android': 488, 'vue': 232, 'kotlin': 186, 'css': 1242, 'angular': 608, 'java': 1636, 'javascript': 1562, 'html': 1202, 'linux': 1462, 'php': 354, 'c#': 1008, 'c': 432, 'jquery': 218, 'django': 138, 'vba': 318, 'ruby': 652, 'mysql': 654, 'tensorflow': 166, 'azure': 1550, 'nosql': 640, 'aws': 1628, 'scala': 378, 'golang': 120, 'c++': 870, 'reactjs': 134, 'swift': 156, 'node.js': 444, 'python': 1662, 'asp.net': 352, 'clojure': 42, 'r': 172, 'hadoop': 578, 'bash': 420, 'docker': 1090, 'spark': 1048, 'mongo': 118, 'perl': 336, 'laravel': 34, 'rust': 60, 'ios': 78, 'expressjs': 6, 'haskell': 14}, 'Atlanta': {'django': 100, 'asp.net': 248, 'linux': 1254, 'r': 102, 'angular': 614, 'java': 1342, 'ruby': 516, 'jquery': 222, 'javascript': 1498, 'css': 940, 'c': 374, 'swift': 118, 'android': 452, 'c#': 920, 'vue': 180, 'reactjs': 96, 'golang': 98, 'node.js': 488, 'html': 1028, 'azure': 1448, 'aws': 1472, 'nosql': 488, 'c++': 700, 'php': 320, 'mysql': 536, 'docker': 918, 'python': 1602, 'bash': 360, 'laravel': 26, 'scala': 222, 'spark': 786, 'hadoop': 414, 'perl': 312, 'mongo': 90, 'tensorflow': 128, 'ios': 62, 'kotlin': 144, 'vba': 138, 'clojure': 8, 'rust': 46, 'expressjs': 10, 'haskell': 16, 'lisp': 2}, 'Boston': {'html': 1062, 'azure': 1226, 'nosql': 494, 'javascript': 1394, 'css': 1068, 'aws': 1590, 'mysql': 506, 'c#': 980, 'angular': 516, 'node.js': 380, 'docker': 972, 'php': 342, 'linux': 1074, 'asp.net': 172, 'java': 1318, 'ruby': 460, 'bash': 376, 'vue': 238, 'scala': 330, 'python': 1348, 'jquery': 164, 'android': 372, 'django': 114, 'spark': 858, 'hadoop': 420, 'tensorflow': 214, 'reactjs': 76, 'clojure': 30, 'c++': 902, 'vba': 152, 'perl': 240, 'golang': 110, 'c': 260, 'rust': 52, 'laravel': 16, 'kotlin': 138, 'r': 144, 'swift': 72, 'mongo': 68, 'expressjs': 8, 'ios': 44, 'haskell': 12, 'lisp': 4}, 'Fort Collins': {'mongo': 6, 'reactjs': 2, 'python': 146, 'linux': 116, 'java': 100, 'bash': 16, 'javascript': 92, 'aws': 80, 'c++': 80, 'c#': 82, 'azure': 62, 'docker': 40, 'perl': 38, 'angular': 20, 'r': 10, 'nosql': 18, 'css': 28, 'asp.net': 8, 'jquery': 16, 'node.js': 6, 'php': 16, 'mysql': 18, 'html': 38, 'hadoop': 10, 'android': 10, 'vue': 4, 'laravel': 2, 'c': 6, 'scala': 4, 'golang': 8, 'swift': 2, 'ios': 2, 'kotlin': 2, 'spark': 12, 'tensorflow': 12, 'ruby': 14, 'vba': 2}}\n"
     ]
    }
   ],
   "source": [
    "topCitiesDF = df[df['city'].isin(['New York', 'Seattle', 'San Francisco', 'Austin', 'Chicago', 'Atlanta', 'Boston', 'Dallas', 'Washington', 'Los Angeles', 'Fort Collins'])]\n",
    "topCitiesDF.apply(count_keywords_per_city, axis=1)\n",
    "print(city_dict)\n"
   ]
  },
  {
   "cell_type": "code",
   "execution_count": 21,
   "metadata": {},
   "outputs": [],
   "source": [
    "def plotData(data, maxNum,name):\n",
    "    # Data to plot\n",
    "    labels = []\n",
    "    sizes = []\n",
    "    counter = 0\n",
    "    for x, y in data.items():\n",
    "        if counter > maxNum:\n",
    "            break\n",
    "        labels.append(x)\n",
    "        sizes.append(y)\n",
    "        counter = counter + 1\n",
    "\n",
    "    # Plot\n",
    "    plt.pie(sizes, labels=labels)\n",
    "    plt.title(name)\n",
    "\n",
    "    plt.axis('equal')\n",
    "    plt.show()"
   ]
  },
  {
   "cell_type": "code",
   "execution_count": 22,
   "metadata": {},
   "outputs": [
    {
     "data": {
      "image/png": "[encoded data removed]",
      "text/plain": [
       "<Figure size 432x288 with 1 Axes>"
      ]
     },
     "metadata": {},
     "output_type": "display_data"
    },
    {
     "data": {
      "image/png": "[encoded data removed]",
      "text/plain": [
       "<Figure size 432x288 with 1 Axes>"
      ]
     },
     "metadata": {},
     "output_type": "display_data"
    },
    {
     "data": {
      "image/png": "[encoded data removed]",
      "text/plain": [
       "<Figure size 432x288 with 1 Axes>"
      ]
     },
     "metadata": {},
     "output_type": "display_data"
    },
    {
     "data": {
      "image/png": "[encoded data removed]",
      "text/plain": [
       "<Figure size 432x288 with 1 Axes>"
      ]
     },
     "metadata": {},
     "output_type": "display_data"
    },
    {
     "data": {
      "image/png": "[encoded data removed]",
      "text/plain": [
       "<Figure size 432x288 with 1 Axes>"
      ]
     },
     "metadata": {},
     "output_type": "display_data"
    },
    {
     "data": {
      "image/png": "[encoded data removed]",
      "text/plain": [
       "<Figure size 432x288 with 1 Axes>"
      ]
     },
     "metadata": {},
     "output_type": "display_data"
    },
    {
     "data": {
      "image/png": "[encoded data removed]",
      "text/plain": [
       "<Figure size 432x288 with 1 Axes>"
      ]
     },
     "metadata": {},
     "output_type": "display_data"
    },
    {
     "data": {
      "image/png": "[encoded data removed]",
      "text/plain": [
       "<Figure size 432x288 with 1 Axes>"
      ]
     },
     "metadata": {},
     "output_type": "display_data"
    },
    {
     "data": {
      "image/png": "[encoded data removed]",
      "text/plain": [
       "<Figure size 432x288 with 1 Axes>"
      ]
     },
     "metadata": {},
     "output_type": "display_data"
    },
    {
     "data": {
      "image/png": "[encoded data removed]",
      "text/plain": [
       "<Figure size 432x288 with 1 Axes>"
      ]
     },
     "metadata": {},
     "output_type": "display_data"
    },
    {
     "data": {
      "image/png": "[encoded data removed]",
      "text/plain": [
       "<Figure size 432x288 with 1 Axes>"
      ]
     },
     "metadata": {},
     "output_type": "display_data"
    }
   ],
   "source": [
    "for key in city_dict:\n",
    "    plotData(dict(sorted(city_dict[key].items(), key=lambda item: item[1], reverse=True)),5,key)"
   ]
  },
  {
   "cell_type": "markdown",
   "metadata": {},
   "source": [
    "Using MatPlotLib we can graph out the top 5 most popular languages per city, the peranial top 3 of python, java and linux are in most cities but interesting languages such as C# appear often in Fort Collins. If you know C++ then Austin or Seattle is the city for you."
   ]
  },
  {
   "cell_type": "markdown",
   "metadata": {},
   "source": [
    "# Conclusion"
   ]
  },
  {
   "cell_type": "markdown",
   "metadata": {},
   "source": [
    "Finding a job in todays market can be extremely difficult, and while online tools such as LinkedIn and Indeed can help guide your search, they are limited in their capabilities and the analsyis shown here today would be impossible through their front ends.\n",
    "\n",
    "So the best way to find what language and city would best help you find a job is to aggregate a data set of jobs and run analysis on them as shown above, a great conversation starter at a new company is to tell them that you know you are the best fit for the job based on your analysis."
   ]
  },
  {
   "cell_type": "markdown",
   "metadata": {},
   "source": [
    "# Keyword Analysis with FPGrowth"
   ]
  },
  {
   "attachments": {},
   "cell_type": "markdown",
   "metadata": {},
   "source": [
    "While outisde the scope of this project I still wanted to find correlations between keywords, not only how often does each one appear but how do they effect each other.\n",
    "\n",
    "For instance when a job posting has the keyword AWS how likely is Azure to follow, if a job posting as both C++ and C how likely is java to appear.\n",
    "\n",
    "To accomplish this I used the dataset with full job descriptions (rather than snippets) using a cluster of 13 machines I submitted a spark job to run a FP growth algoritm (included in Pyspark). The analysis was done on a city by city basis such that the correlation value between AWS and Azure would be different in Fort Collins vs Los Angeles.\n",
    "A sample record of the results looks like\n",
    "aws,0.113636364,0,0,0,0,0.590909091,0.068181818,0.090909091,0.113636364,0.159090909,0,0,0,0.272727273,0.136363636,0.045454545,0,0,0,0.431818182,0.272727273,0,0,0.431818182,0,0.068181818,0.045454545,0,0.090909091,0,0,0.431818182,0.113636364,0.113636364,0,0,0,0.045454545,0.045454545,0,0\n",
    "\n",
    "I threw this data into an sql database, along with a pretty front end of HTML,CSS and Javascript and I created the helpful website https://skillsadvisor.net"
   ]
  },
  {
   "cell_type": "code",
   "execution_count": null,
   "metadata": {},
   "outputs": [],
   "source": []
  }
 ],
 "metadata": {
  "kernelspec": {
   "display_name": "Python 3",
   "language": "python",
   "name": "python3"
  },
  "language_info": {
   "codemirror_mode": {
    "name": "ipython",
    "version": 3
   },
   "file_extension": ".py",
   "mimetype": "text/x-python",
   "name": "python",
   "nbconvert_exporter": "python",
   "pygments_lexer": "ipython3",
   "version": "3.7.4"
  }
 },
 "nbformat": 4,
 "nbformat_minor": 2
}
